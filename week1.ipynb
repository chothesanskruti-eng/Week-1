{
  "metadata": {
    "kernelspec": {
      "name": "python",
      "display_name": "Python (Pyodide)",
      "language": "python"
    },
    "language_info": {
      "codemirror_mode": {
        "name": "python",
        "version": 3
      },
      "file_extension": ".py",
      "mimetype": "text/x-python",
      "name": "python",
      "nbconvert_exporter": "python",
      "pygments_lexer": "ipython3",
      "version": "3.8"
    }
  },
  "nbformat_minor": 5,
  "nbformat": 4,
  "cells": [
    {
      "id": "cea416e6-9c69-4836-bbc8-02c5e296afed",
      "cell_type": "code",
      "source": "# Build an AI and ML Model that predicts AQI level using historical air pollution and weather data, helping pollution control and awwareness\n",
      "metadata": {
        "trusted": true
      },
      "outputs": [],
      "execution_count": null
    },
    {
      "id": "508bff6f-de8b-407a-bb22-99edb04697fd",
      "cell_type": "code",
      "source": "import pandas as pd\nimport numpy as np\ndf= pd.read_csv(\"station_day.csv\")\nprint(df.head())\n\n",
      "metadata": {
        "trusted": true
      },
      "outputs": [
        {
          "name": "stdout",
          "output_type": "stream",
          "text": "  StationId        Date  PM2.5    PM10    NO    NO2    NOx    NH3    CO  \\\n0     AP001  24-11-2017  71.36  115.75  1.75  20.65  12.40  12.19  0.10   \n1     AP001  25-11-2017  81.40  124.50  1.44  20.50  12.08  10.72  0.12   \n2     AP001  26-11-2017  78.32  129.06  1.26  26.00  14.85  10.28  0.14   \n3     AP001  27-11-2017  88.76  135.32  6.60  30.85  21.77  12.91  0.11   \n4     AP001  28-11-2017  64.18  104.09  2.56  28.07  17.01  11.42  0.09   \n\n     SO2      O3  Benzene  Toluene  Xylene    AQI AQI_Bucket  \n0  10.76  109.26     0.17     5.92    0.10    NaN        NaN  \n1  15.24  127.09     0.20     6.50    0.06  184.0   Moderate  \n2  26.96  117.44     0.22     7.95    0.08  197.0   Moderate  \n3  33.59  111.81     0.29     7.63    0.12  198.0   Moderate  \n4  19.00  138.18     0.17     5.02    0.07  188.0   Moderate  \n"
        }
      ],
      "execution_count": 16
    },
    {
      "id": "18a53030-2105-4b8d-be42-b5c054b92a7f",
      "cell_type": "code",
      "source": "df.shape",
      "metadata": {
        "trusted": true
      },
      "outputs": [
        {
          "execution_count": 17,
          "output_type": "execute_result",
          "data": {
            "text/plain": "(108035, 16)"
          },
          "metadata": {}
        }
      ],
      "execution_count": 17
    },
    {
      "id": "48827f3f-9c19-4e0e-bca6-3698ff924ea7",
      "cell_type": "code",
      "source": "df.info()",
      "metadata": {
        "trusted": true
      },
      "outputs": [
        {
          "name": "stdout",
          "output_type": "stream",
          "text": "<class 'pandas.core.frame.DataFrame'>\nRangeIndex: 108035 entries, 0 to 108034\nData columns (total 16 columns):\n #   Column      Non-Null Count   Dtype  \n---  ------      --------------   -----  \n 0   StationId   108035 non-null  object \n 1   Date        108035 non-null  object \n 2   PM2.5       86410 non-null   float64\n 3   PM10        65329 non-null   float64\n 4   NO          90929 non-null   float64\n 5   NO2         91488 non-null   float64\n 6   NOx         92535 non-null   float64\n 7   NH3         59930 non-null   float64\n 8   CO          95037 non-null   float64\n 9   SO2         82831 non-null   float64\n 10  O3          82467 non-null   float64\n 11  Benzene     76580 non-null   float64\n 12  Toluene     69333 non-null   float64\n 13  Xylene      22898 non-null   float64\n 14  AQI         87025 non-null   float64\n 15  AQI_Bucket  87025 non-null   object \ndtypes: float64(13), object(3)\nmemory usage: 12.0+ MB\n"
        }
      ],
      "execution_count": 18
    },
    {
      "id": "06dfbc90-927a-4cc7-a4d8-63161310d91d",
      "cell_type": "code",
      "source": "df.isnull()",
      "metadata": {
        "trusted": true
      },
      "outputs": [
        {
          "execution_count": 19,
          "output_type": "execute_result",
          "data": {
            "text/plain": "        StationId   Date  PM2.5   PM10     NO    NO2    NOx    NH3     CO  \\\n0           False  False  False  False  False  False  False  False  False   \n1           False  False  False  False  False  False  False  False  False   \n2           False  False  False  False  False  False  False  False  False   \n3           False  False  False  False  False  False  False  False  False   \n4           False  False  False  False  False  False  False  False  False   \n...           ...    ...    ...    ...    ...    ...    ...    ...    ...   \n108030      False  False  False  False   True   True   True   True  False   \n108031      False  False  False  False   True   True   True   True  False   \n108032      False  False  False  False  False  False  False  False  False   \n108033      False  False  False  False  False  False  False  False  False   \n108034      False  False  False  False  False  False  False  False  False   \n\n          SO2     O3  Benzene  Toluene  Xylene    AQI  AQI_Bucket  \n0       False  False    False    False   False   True        True  \n1       False  False    False    False   False  False       False  \n2       False  False    False    False   False  False       False  \n3       False  False    False    False   False  False       False  \n4       False  False    False    False   False  False       False  \n...       ...    ...      ...      ...     ...    ...         ...  \n108030  False  False    False    False    True  False       False  \n108031  False  False    False    False    True  False       False  \n108032  False  False    False    False    True  False       False  \n108033  False  False    False    False    True  False       False  \n108034  False  False    False    False    True  False       False  \n\n[108035 rows x 16 columns]",
            "text/html": "<div>\n<style scoped>\n    .dataframe tbody tr th:only-of-type {\n        vertical-align: middle;\n    }\n\n    .dataframe tbody tr th {\n        vertical-align: top;\n    }\n\n    .dataframe thead th {\n        text-align: right;\n    }\n</style>\n<table border=\"1\" class=\"dataframe\">\n  <thead>\n    <tr style=\"text-align: right;\">\n      <th></th>\n      <th>StationId</th>\n      <th>Date</th>\n      <th>PM2.5</th>\n      <th>PM10</th>\n      <th>NO</th>\n      <th>NO2</th>\n      <th>NOx</th>\n      <th>NH3</th>\n      <th>CO</th>\n      <th>SO2</th>\n      <th>O3</th>\n      <th>Benzene</th>\n      <th>Toluene</th>\n      <th>Xylene</th>\n      <th>AQI</th>\n      <th>AQI_Bucket</th>\n    </tr>\n  </thead>\n  <tbody>\n    <tr>\n      <th>0</th>\n      <td>False</td>\n      <td>False</td>\n      <td>False</td>\n      <td>False</td>\n      <td>False</td>\n      <td>False</td>\n      <td>False</td>\n      <td>False</td>\n      <td>False</td>\n      <td>False</td>\n      <td>False</td>\n      <td>False</td>\n      <td>False</td>\n      <td>False</td>\n      <td>True</td>\n      <td>True</td>\n    </tr>\n    <tr>\n      <th>1</th>\n      <td>False</td>\n      <td>False</td>\n      <td>False</td>\n      <td>False</td>\n      <td>False</td>\n      <td>False</td>\n      <td>False</td>\n      <td>False</td>\n      <td>False</td>\n      <td>False</td>\n      <td>False</td>\n      <td>False</td>\n      <td>False</td>\n      <td>False</td>\n      <td>False</td>\n      <td>False</td>\n    </tr>\n    <tr>\n      <th>2</th>\n      <td>False</td>\n      <td>False</td>\n      <td>False</td>\n      <td>False</td>\n      <td>False</td>\n      <td>False</td>\n      <td>False</td>\n      <td>False</td>\n      <td>False</td>\n      <td>False</td>\n      <td>False</td>\n      <td>False</td>\n      <td>False</td>\n      <td>False</td>\n      <td>False</td>\n      <td>False</td>\n    </tr>\n    <tr>\n      <th>3</th>\n      <td>False</td>\n      <td>False</td>\n      <td>False</td>\n      <td>False</td>\n      <td>False</td>\n      <td>False</td>\n      <td>False</td>\n      <td>False</td>\n      <td>False</td>\n      <td>False</td>\n      <td>False</td>\n      <td>False</td>\n      <td>False</td>\n      <td>False</td>\n      <td>False</td>\n      <td>False</td>\n    </tr>\n    <tr>\n      <th>4</th>\n      <td>False</td>\n      <td>False</td>\n      <td>False</td>\n      <td>False</td>\n      <td>False</td>\n      <td>False</td>\n      <td>False</td>\n      <td>False</td>\n      <td>False</td>\n      <td>False</td>\n      <td>False</td>\n      <td>False</td>\n      <td>False</td>\n      <td>False</td>\n      <td>False</td>\n      <td>False</td>\n    </tr>\n    <tr>\n      <th>...</th>\n      <td>...</td>\n      <td>...</td>\n      <td>...</td>\n      <td>...</td>\n      <td>...</td>\n      <td>...</td>\n      <td>...</td>\n      <td>...</td>\n      <td>...</td>\n      <td>...</td>\n      <td>...</td>\n      <td>...</td>\n      <td>...</td>\n      <td>...</td>\n      <td>...</td>\n      <td>...</td>\n    </tr>\n    <tr>\n      <th>108030</th>\n      <td>False</td>\n      <td>False</td>\n      <td>False</td>\n      <td>False</td>\n      <td>True</td>\n      <td>True</td>\n      <td>True</td>\n      <td>True</td>\n      <td>False</td>\n      <td>False</td>\n      <td>False</td>\n      <td>False</td>\n      <td>False</td>\n      <td>True</td>\n      <td>False</td>\n      <td>False</td>\n    </tr>\n    <tr>\n      <th>108031</th>\n      <td>False</td>\n      <td>False</td>\n      <td>False</td>\n      <td>False</td>\n      <td>True</td>\n      <td>True</td>\n      <td>True</td>\n      <td>True</td>\n      <td>False</td>\n      <td>False</td>\n      <td>False</td>\n      <td>False</td>\n      <td>False</td>\n      <td>True</td>\n      <td>False</td>\n      <td>False</td>\n    </tr>\n    <tr>\n      <th>108032</th>\n      <td>False</td>\n      <td>False</td>\n      <td>False</td>\n      <td>False</td>\n      <td>False</td>\n      <td>False</td>\n      <td>False</td>\n      <td>False</td>\n      <td>False</td>\n      <td>False</td>\n      <td>False</td>\n      <td>False</td>\n      <td>False</td>\n      <td>True</td>\n      <td>False</td>\n      <td>False</td>\n    </tr>\n    <tr>\n      <th>108033</th>\n      <td>False</td>\n      <td>False</td>\n      <td>False</td>\n      <td>False</td>\n      <td>False</td>\n      <td>False</td>\n      <td>False</td>\n      <td>False</td>\n      <td>False</td>\n      <td>False</td>\n      <td>False</td>\n      <td>False</td>\n      <td>False</td>\n      <td>True</td>\n      <td>False</td>\n      <td>False</td>\n    </tr>\n    <tr>\n      <th>108034</th>\n      <td>False</td>\n      <td>False</td>\n      <td>False</td>\n      <td>False</td>\n      <td>False</td>\n      <td>False</td>\n      <td>False</td>\n      <td>False</td>\n      <td>False</td>\n      <td>False</td>\n      <td>False</td>\n      <td>False</td>\n      <td>False</td>\n      <td>True</td>\n      <td>False</td>\n      <td>False</td>\n    </tr>\n  </tbody>\n</table>\n<p>108035 rows × 16 columns</p>\n</div>"
          },
          "metadata": {}
        }
      ],
      "execution_count": 19
    },
    {
      "id": "9752a903-1363-499c-a0ab-b3481e40450e",
      "cell_type": "code",
      "source": "df.isnull().sum()",
      "metadata": {
        "trusted": true
      },
      "outputs": [
        {
          "execution_count": 20,
          "output_type": "execute_result",
          "data": {
            "text/plain": "StationId         0\nDate              0\nPM2.5         21625\nPM10          42706\nNO            17106\nNO2           16547\nNOx           15500\nNH3           48105\nCO            12998\nSO2           25204\nO3            25568\nBenzene       31455\nToluene       38702\nXylene        85137\nAQI           21010\nAQI_Bucket    21010\ndtype: int64"
          },
          "metadata": {}
        }
      ],
      "execution_count": 20
    },
    {
      "id": "0ad43e7d-7783-4a0d-8810-69ee0d8b7f21",
      "cell_type": "code",
      "source": "df=df.drop(columns=[\"NH3\"])",
      "metadata": {
        "trusted": true
      },
      "outputs": [],
      "execution_count": 21
    },
    {
      "id": "1ae58541-97b3-4a59-bbd8-644aef7188c4",
      "cell_type": "code",
      "source": "df.isnull().sum()",
      "metadata": {
        "trusted": true
      },
      "outputs": [
        {
          "execution_count": 22,
          "output_type": "execute_result",
          "data": {
            "text/plain": "StationId         0\nDate              0\nPM2.5         21625\nPM10          42706\nNO            17106\nNO2           16547\nNOx           15500\nCO            12998\nSO2           25204\nO3            25568\nBenzene       31455\nToluene       38702\nXylene        85137\nAQI           21010\nAQI_Bucket    21010\ndtype: int64"
          },
          "metadata": {}
        }
      ],
      "execution_count": 22
    },
    {
      "id": "3c19ff86-72fd-4d98-966b-03dcf0acf223",
      "cell_type": "code",
      "source": "df.fillna(0,inplace=True)",
      "metadata": {
        "trusted": true
      },
      "outputs": [],
      "execution_count": 24
    },
    {
      "id": "ab60610b-a466-46e6-857a-47f340366d37",
      "cell_type": "code",
      "source": "from sklearn.preprocessing import StandardScaler \nscaler=StandardScaler()\ndf[['PM2.5','PM10','NO','NO2','NOx','CO','SO2','O3']]=scaler.fit_transform(df[['PM2.5','PM10','NO','NO2','NOx','CO','SO2','O3']])",
      "metadata": {
        "trusted": true
      },
      "outputs": [],
      "execution_count": 26
    },
    {
      "id": "b4f23f90-9001-4645-b5ba-74790fb86693",
      "cell_type": "code",
      "source": "",
      "metadata": {
        "trusted": true
      },
      "outputs": [],
      "execution_count": null
    }
  ]
}